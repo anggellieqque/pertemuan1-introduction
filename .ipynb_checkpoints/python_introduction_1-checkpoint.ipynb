{
 "cells": [
  {
   "cell_type": "markdown",
   "id": "e0676309",
   "metadata": {},
   "source": [
    "# **Varible**"
   ]
  },
  {
   "cell_type": "code",
   "execution_count": 1,
   "id": "a073ce11",
   "metadata": {},
   "outputs": [],
   "source": [
    "nama = 'Sasuke'\n",
    "umur = '25'"
   ]
  },
  {
   "cell_type": "code",
   "execution_count": 2,
   "id": "25d8aea1",
   "metadata": {},
   "outputs": [
    {
     "data": {
      "text/plain": [
       "'Sasuke'"
      ]
     },
     "execution_count": 2,
     "metadata": {},
     "output_type": "execute_result"
    }
   ],
   "source": [
    "nama"
   ]
  },
  {
   "cell_type": "code",
   "execution_count": 3,
   "id": "fa93bdaa",
   "metadata": {},
   "outputs": [
    {
     "data": {
      "text/plain": [
       "str"
      ]
     },
     "execution_count": 3,
     "metadata": {},
     "output_type": "execute_result"
    }
   ],
   "source": [
    "type(nama)"
   ]
  },
  {
   "cell_type": "code",
   "execution_count": 4,
   "id": "f8c90470",
   "metadata": {},
   "outputs": [
    {
     "data": {
      "text/plain": [
       "'25'"
      ]
     },
     "execution_count": 4,
     "metadata": {},
     "output_type": "execute_result"
    }
   ],
   "source": [
    "umur"
   ]
  },
  {
   "cell_type": "code",
   "execution_count": 5,
   "id": "4fa0f56b",
   "metadata": {},
   "outputs": [],
   "source": [
    "umur = 25"
   ]
  },
  {
   "cell_type": "code",
   "execution_count": 6,
   "id": "64294b80",
   "metadata": {},
   "outputs": [
    {
     "data": {
      "text/plain": [
       "int"
      ]
     },
     "execution_count": 6,
     "metadata": {},
     "output_type": "execute_result"
    }
   ],
   "source": [
    "type(umur)"
   ]
  },
  {
   "cell_type": "code",
   "execution_count": 7,
   "id": "749ad350",
   "metadata": {},
   "outputs": [],
   "source": [
    "jomblo = True"
   ]
  },
  {
   "cell_type": "code",
   "execution_count": 8,
   "id": "9406baee",
   "metadata": {},
   "outputs": [
    {
     "data": {
      "text/plain": [
       "bool"
      ]
     },
     "execution_count": 8,
     "metadata": {},
     "output_type": "execute_result"
    }
   ],
   "source": [
    "type(jomblo)"
   ]
  },
  {
   "cell_type": "markdown",
   "id": "6a4ea5af-97af-468a-9f9f-2e66c38903a3",
   "metadata": {},
   "source": [
    "### Case 1\n",
    "\n",
    "Buat sebuah variable `nama` dan `NRP` teman-teman lalu panggil di dalam jupyter-notebook!"
   ]
  },
  {
   "cell_type": "code",
   "execution_count": null,
   "id": "40b1e2e4-2cac-4063-b1ea-50595e61cffc",
   "metadata": {},
   "outputs": [],
   "source": []
  },
  {
   "cell_type": "markdown",
   "id": "cbecfa57-a246-4ca8-bba6-0e5bf37a3d7b",
   "metadata": {},
   "source": [
    "### Case 2\n",
    "\n",
    "Konversi program untuk memanggil variable `name` dan `NRP` yang sudah dibuat dalam jupyter-notebook ke file python atau `*.py` dengan nama file `variable.py`!"
   ]
  },
  {
   "cell_type": "markdown",
   "id": "5d3cf613",
   "metadata": {},
   "source": [
    "# **Arithmetic Operation**"
   ]
  },
  {
   "cell_type": "code",
   "execution_count": 9,
   "id": "92151140",
   "metadata": {},
   "outputs": [
    {
     "data": {
      "text/plain": [
       "15"
      ]
     },
     "execution_count": 9,
     "metadata": {},
     "output_type": "execute_result"
    }
   ],
   "source": [
    "a = 10\n",
    "b = 5\n",
    "\n",
    "a + b"
   ]
  },
  {
   "cell_type": "code",
   "execution_count": 10,
   "id": "cd0d2616",
   "metadata": {},
   "outputs": [],
   "source": [
    "c = a + b"
   ]
  },
  {
   "cell_type": "code",
   "execution_count": 11,
   "id": "d84579ff",
   "metadata": {},
   "outputs": [
    {
     "data": {
      "text/plain": [
       "15"
      ]
     },
     "execution_count": 11,
     "metadata": {},
     "output_type": "execute_result"
    }
   ],
   "source": [
    "c"
   ]
  },
  {
   "cell_type": "markdown",
   "id": "2b280d94",
   "metadata": {},
   "source": [
    "c = c + 1"
   ]
  },
  {
   "cell_type": "code",
   "execution_count": 12,
   "id": "5c906f99",
   "metadata": {},
   "outputs": [],
   "source": [
    "c += 1"
   ]
  },
  {
   "cell_type": "code",
   "execution_count": 13,
   "id": "f47e5ee4",
   "metadata": {},
   "outputs": [
    {
     "data": {
      "text/plain": [
       "16"
      ]
     },
     "execution_count": 13,
     "metadata": {},
     "output_type": "execute_result"
    }
   ],
   "source": [
    "c"
   ]
  },
  {
   "cell_type": "code",
   "execution_count": 14,
   "id": "daf43743",
   "metadata": {},
   "outputs": [],
   "source": [
    "c -= 5"
   ]
  },
  {
   "cell_type": "code",
   "execution_count": 15,
   "id": "acd29756",
   "metadata": {},
   "outputs": [
    {
     "data": {
      "text/plain": [
       "11"
      ]
     },
     "execution_count": 15,
     "metadata": {},
     "output_type": "execute_result"
    }
   ],
   "source": [
    "c"
   ]
  },
  {
   "cell_type": "code",
   "execution_count": 16,
   "id": "35e7b7aa",
   "metadata": {},
   "outputs": [
    {
     "name": "stdout",
     "output_type": "stream",
     "text": [
      "800\n",
      "2.0\n",
      "60\n",
      "20\n",
      "0\n",
      "1600\n"
     ]
    }
   ],
   "source": [
    "e = 40\n",
    "f = 20\n",
    "\n",
    "print(e * f)\n",
    "print(e / f)\n",
    "print(e + f)\n",
    "print(e - f)\n",
    "print(e % f)\n",
    "print(e ** 2)"
   ]
  },
  {
   "cell_type": "markdown",
   "id": "5590811e-c47c-4381-8089-3a4d95d20728",
   "metadata": {},
   "source": [
    "### Case 3\n",
    "\n",
    "Konversi perhitungan **Luas** dan **Keliling** balok menjadi sebuah program yang berjalan di jupyter-notebook!\n",
    "\n",
    "![title](https://rumusrumus.com/wp-content/uploads/2015/05/jawaban-soal-matematika-balok.png)\n"
   ]
  },
  {
   "cell_type": "code",
   "execution_count": null,
   "id": "8dc1c0c1-5a91-4703-b819-d7134e3f90f3",
   "metadata": {},
   "outputs": [],
   "source": []
  },
  {
   "cell_type": "markdown",
   "id": "7d91d419-8366-48a9-9a78-409224d708ab",
   "metadata": {},
   "source": [
    "### Case 4\n",
    "\n",
    "Konversi perhitungan luas dan keliling yang sebelumnya berjalan di jupyter-notebook menjadi sebuah file python atau `*.py` dengan nama masing-masing file `volume.py` dan `keliling.py`!"
   ]
  },
  {
   "cell_type": "markdown",
   "id": "90db810e-a772-41c9-a410-53fab01cd891",
   "metadata": {},
   "source": [
    "# **Tuple**"
   ]
  },
  {
   "cell_type": "code",
   "execution_count": 17,
   "id": "1299d200",
   "metadata": {},
   "outputs": [
    {
     "name": "stdout",
     "output_type": "stream",
     "text": [
      "Print all tuple1:  ('physics', 'chemistry', 1997, 2000)\n",
      "Print all tuple2:  (1, 2, 3, 4, 5, 6, 7)\n",
      "Print tuple1 element-0:  physics\n",
      "Print tuple1 element-1 until 5:  (2, 3, 4, 5)\n",
      "Join two tuple:  ('physics', 'chemistry', 1997, 2000, 1, 2, 3, 4, 5, 6, 7)\n"
     ]
    }
   ],
   "source": [
    "tup1 = ('physics', 'chemistry', 1997, 2000)\n",
    "tup2 = (1, 2, 3, 4, 5, 6, 7 )\n",
    "\n",
    "print(\"Print all tuple1: \", tup1)\n",
    "print(\"Print all tuple2: \", tup2)\n",
    "print(\"Print tuple1 element-0: \", tup1[0])\n",
    "print(\"Print tuple1 element-1 until 5: \", tup2[1:5])\n",
    "print(\"Join two tuple: \", tup1 + tup2)"
   ]
  },
  {
   "cell_type": "code",
   "execution_count": 18,
   "id": "4ac06ae0",
   "metadata": {},
   "outputs": [
    {
     "data": {
      "text/plain": [
       "'chemistry'"
      ]
     },
     "execution_count": 18,
     "metadata": {},
     "output_type": "execute_result"
    }
   ],
   "source": [
    "tup1[1]"
   ]
  },
  {
   "cell_type": "markdown",
   "id": "6bcc05df-d137-4727-afc6-45bef7a056fc",
   "metadata": {},
   "source": [
    "# **List**"
   ]
  },
  {
   "cell_type": "code",
   "execution_count": 19,
   "id": "e12f8f36",
   "metadata": {},
   "outputs": [
    {
     "name": "stdout",
     "output_type": "stream",
     "text": [
      "Print all list:  ['physics', 'chemistry', 1997, 2000]\n",
      "Print list element-0:  physics\n",
      "Print list element-1:  chemistry\n",
      "Print list element-1 until 3:  ['chemistry', 1997]\n",
      "Print list element-1 until 4:  ['chemistry', 1997, 2000]\n",
      "Print list element-2 until end:  [1997, 2000]\n",
      "Print list twice:  [1, 2, 3, 4, 5, 6, 7, 1, 2, 3, 4, 5, 6, 7]\n",
      "Join two list:  ['physics', 'chemistry', 1997, 2000, 1, 2, 3, 4, 5, 6, 7] \n",
      "\n"
     ]
    }
   ],
   "source": [
    "list1 = ['physics', 'chemistry', 1997, 2000]\n",
    "list2 = [1, 2, 3, 4, 5, 6, 7 ]\n",
    "\n",
    "print(\"Print all list: \", list1)\n",
    "print(\"Print list element-0: \", list1[0])\n",
    "print(\"Print list element-1: \", list1[1])\n",
    "print(\"Print list element-1 until 3: \", list1[1:3])\n",
    "print(\"Print list element-1 until 4: \",list1[1:4])\n",
    "print(\"Print list element-2 until end: \",list1[2:])\n",
    "print(\"Print list twice: \",list2 * 2)\n",
    "print(\"Join two list: \", list1 + list2, \"\\n\")"
   ]
  },
  {
   "cell_type": "markdown",
   "id": "02ed6ba2-96c7-427d-b812-798b5fcc787c",
   "metadata": {},
   "source": [
    "### Case 5\n",
    "\n",
    "Uncomment cell dibawah ini lalu kemudian eksekusi dan amati perbedaanya!"
   ]
  },
  {
   "cell_type": "markdown",
   "id": "f5b72e2d-3866-45aa-80b1-90909c316d40",
   "metadata": {},
   "source": [
    "List:"
   ]
  },
  {
   "cell_type": "code",
   "execution_count": 20,
   "id": "b4d6c18e-3111-4848-95aa-17c691b406b6",
   "metadata": {},
   "outputs": [],
   "source": [
    "list1[1] = 'math'"
   ]
  },
  {
   "cell_type": "code",
   "execution_count": 21,
   "id": "0647e345-9c8a-4bc9-8d8a-3131f96378ab",
   "metadata": {},
   "outputs": [
    {
     "data": {
      "text/plain": [
       "'math'"
      ]
     },
     "execution_count": 21,
     "metadata": {},
     "output_type": "execute_result"
    }
   ],
   "source": [
    "list1[1]"
   ]
  },
  {
   "cell_type": "code",
   "execution_count": 22,
   "id": "7ccf1dc5-33b9-4b2e-a7e3-768a2da660d5",
   "metadata": {},
   "outputs": [
    {
     "data": {
      "text/plain": [
       "['physics', 'math', 1997, 2000]"
      ]
     },
     "execution_count": 22,
     "metadata": {},
     "output_type": "execute_result"
    }
   ],
   "source": [
    "list1"
   ]
  },
  {
   "cell_type": "markdown",
   "id": "6ac0e030-8b75-4e03-a463-1c51ddeac27a",
   "metadata": {},
   "source": [
    "Tupple:"
   ]
  },
  {
   "cell_type": "code",
   "execution_count": 23,
   "id": "0f63a559",
   "metadata": {},
   "outputs": [],
   "source": [
    "# tup1[1] = 'math'"
   ]
  },
  {
   "cell_type": "code",
   "execution_count": 24,
   "id": "b59cc7f6-fdda-4276-995b-0b6fb803dcab",
   "metadata": {},
   "outputs": [
    {
     "data": {
      "text/plain": [
       "'chemistry'"
      ]
     },
     "execution_count": 24,
     "metadata": {},
     "output_type": "execute_result"
    }
   ],
   "source": [
    "tup1[1]"
   ]
  },
  {
   "cell_type": "code",
   "execution_count": 25,
   "id": "df1a832d-6da3-4a37-bdd8-ebc0e3e248e7",
   "metadata": {},
   "outputs": [
    {
     "data": {
      "text/plain": [
       "('physics', 'chemistry', 1997, 2000)"
      ]
     },
     "execution_count": 25,
     "metadata": {},
     "output_type": "execute_result"
    }
   ],
   "source": [
    "tup1"
   ]
  },
  {
   "cell_type": "markdown",
   "id": "e62f2e51-8086-4d29-b058-329c3903e0c3",
   "metadata": {},
   "source": [
    "Simpulkan dan jawab pada sel dibawah ya! dan jangan lupa cell dibawah diganti ke format MD atau Markdown."
   ]
  },
  {
   "cell_type": "code",
   "execution_count": null,
   "id": "25c1b9fb-d830-4038-9142-a308f88f5c5b",
   "metadata": {},
   "outputs": [],
   "source": []
  },
  {
   "cell_type": "markdown",
   "id": "2b089364",
   "metadata": {},
   "source": [
    "# **String**"
   ]
  },
  {
   "cell_type": "code",
   "execution_count": 26,
   "id": "6eb9df5a",
   "metadata": {},
   "outputs": [
    {
     "name": "stdout",
     "output_type": "stream",
     "text": [
      "21\n",
      "['Sasuke', 'pergi', 'ke', 'pasar']\n",
      "sasuke pergi ke pasar\n",
      "SASUKE PERGI KE PASAR\n"
     ]
    }
   ],
   "source": [
    "g = 'Sasuke pergi ke pasar'\n",
    "\n",
    "print(len(g))\n",
    "print(g.split(' '))\n",
    "print(g.lower())\n",
    "print(g.upper())"
   ]
  },
  {
   "cell_type": "markdown",
   "id": "865bffaf-28bd-49bf-912d-06c9668951dc",
   "metadata": {},
   "source": [
    "### Case 6\n",
    "\n",
    "Buat sebuah variable yang berisi string perkenalan nama dan umur, misal:\n",
    "\n",
    "\"Halo.. Nama saya sasuke, saya berusia 17 tahun!\"\n",
    "\n",
    "Print variable tersebut dan split menjadi sebuah list kemudian print juga yang versi List!"
   ]
  },
  {
   "cell_type": "code",
   "execution_count": null,
   "id": "0a45978f-6a16-46a0-ac83-0ee38c74fd52",
   "metadata": {},
   "outputs": [],
   "source": []
  },
  {
   "cell_type": "markdown",
   "id": "a7e3af6b",
   "metadata": {},
   "source": [
    "### **Convert String to Number**"
   ]
  },
  {
   "cell_type": "code",
   "execution_count": 27,
   "id": "6fd188da",
   "metadata": {},
   "outputs": [
    {
     "name": "stdout",
     "output_type": "stream",
     "text": [
      "<class 'str'>\n",
      "25\n",
      "<class 'int'>\n"
     ]
    }
   ],
   "source": [
    "h = '25'\n",
    "i = int(h)\n",
    "\n",
    "print(type(h))\n",
    "print(i)\n",
    "print(type(i))"
   ]
  },
  {
   "cell_type": "markdown",
   "id": "e6f8cce0-19e5-461e-8ddc-74b378f2fe6a",
   "metadata": {},
   "source": [
    "### Case 7\n",
    "\n",
    "Convert umur dalam List yang sebelumnya dibuat dan tersimpan dalam **Case 6** menjadi sebuah integer!"
   ]
  },
  {
   "cell_type": "code",
   "execution_count": null,
   "metadata": {},
   "outputs": [],
   "source": []
  },
  {
   "cell_type": "markdown",
   "id": "2cab4e3f-3392-4632-971d-d75e62ddceda",
   "metadata": {},
   "source": [
    "### Case 8\n",
    "\n",
    "Convert **Case 6** dan **Case 7** menjadi sebuah program python dengan nama `list_string.py`!"
   ]
  },
  {
   "cell_type": "markdown",
   "id": "c3457b6c",
   "metadata": {},
   "source": [
    "# **Math Module**"
   ]
  },
  {
   "cell_type": "code",
   "execution_count": 28,
   "id": "ca3203cd",
   "metadata": {},
   "outputs": [
    {
     "name": "stdout",
     "output_type": "stream",
     "text": [
      "6\n",
      "7\n",
      "6\n",
      "7\n"
     ]
    }
   ],
   "source": [
    "import math\n",
    "\n",
    "print(round(6.4))\n",
    "print(round(6.8))\n",
    "print(math.floor(6.8))\n",
    "print(math.ceil(6.8))"
   ]
  },
  {
   "cell_type": "markdown",
   "id": "a5c2ab8d-71b5-46fe-8a2b-052b28c3d1d0",
   "metadata": {},
   "source": [
    "### Case 9\n",
    "\n",
    "![title](https://akupintar.id/documents/portlet_file_entry/20143/2+%284%29.png/d8907cd9-a23e-b777-4594-f3355af498cb?imagePreview=1)\n",
    "\n",
    "Konversi perhitungan pytagoras berikut menjadi sebuah program yang berjalan di jupyter-notebook dan convert menjadi sebuah program python dengan extension `*.py` dengan nama `math_module_example`!"
   ]
  },
  {
   "cell_type": "markdown",
   "id": "80d20232",
   "metadata": {},
   "source": [
    "# **Dictionary**\n",
    "\n",
    "+ jumlahnya 1: `{'key': value}`\n",
    "+ jumlahnya lebih dari 1: `{'key1': value1, 'key2': value2, 'key3': {'key3.1': value31, 'key3.2': value32}}`"
   ]
  },
  {
   "cell_type": "code",
   "execution_count": 29,
   "id": "3b7bda71",
   "metadata": {},
   "outputs": [
    {
     "name": "stdout",
     "output_type": "stream",
     "text": [
      "Print dictionary on dict1['one']:  This is one\n",
      "Print dictionary on dict1[2]:  This is two\n",
      "Print dictionary on dict1:  {'one': 'This is one', 2: 'This is two'}\n",
      "Print dictionary on tinydict:  {'name': 'john', 'code': 6734, 'dept': {'pos': 'engineering'}}\n",
      "Print tinydict dictionary keys:  dict_keys(['name', 'code', 'dept'])\n",
      "Print tinydict dictionary values:  dict_values(['john', 6734, {'pos': 'engineering'}]) \n",
      "\n"
     ]
    }
   ],
   "source": [
    "dict1 = {}\n",
    "dict1['one'] = \"This is one\"\n",
    "dict1[2] = \"This is two\"\n",
    "tinydict = {'name': 'john','code':6734, 'dept': {'pos': 'sales', 'pos': 'engineering'}}\n",
    "\n",
    "print(\"Print dictionary on dict1['one']: \", dict1['one'])\n",
    "print(\"Print dictionary on dict1[2]: \",dict1[2])\n",
    "print(\"Print dictionary on dict1: \", dict1)\n",
    "print(\"Print dictionary on tinydict: \", tinydict)\n",
    "print(\"Print tinydict dictionary keys: \", tinydict.keys())\n",
    "print(\"Print tinydict dictionary values: \", tinydict.values(), \"\\n\")"
   ]
  },
  {
   "cell_type": "code",
   "execution_count": 30,
   "metadata": {},
   "outputs": [
    {
     "data": {
      "text/plain": [
       "{'one': 'This is one', 2: 'This is two'}"
      ]
     },
     "execution_count": 30,
     "metadata": {},
     "output_type": "execute_result"
    }
   ],
   "source": [
    "dict1"
   ]
  },
  {
   "cell_type": "code",
   "execution_count": 31,
   "metadata": {},
   "outputs": [
    {
     "data": {
      "text/plain": [
       "{'name': 'john', 'code': 6734, 'dept': {'pos': 'engineering'}}"
      ]
     },
     "execution_count": 31,
     "metadata": {},
     "output_type": "execute_result"
    }
   ],
   "source": [
    "tinydict"
   ]
  },
  {
   "cell_type": "markdown",
   "id": "f488ac6d-0bc1-4c6a-a84c-c2b256c72d8e",
   "metadata": {},
   "source": [
    "### Case 10\n",
    "\n",
    "Buat sebuah data diri teman-teman ke sebuah dictionary dan print di jupyter notebook, Contoh:\n",
    "\n",
    "```\n",
    "{\n",
    "    'nama': 'sasuke uchiha',\n",
    "    'nim': 2221100025,\n",
    "}\n",
    "```"
   ]
  },
  {
   "cell_type": "code",
   "execution_count": null,
   "metadata": {},
   "outputs": [],
   "source": []
  },
  {
   "cell_type": "markdown",
   "metadata": {},
   "source": [
    "Lakukan penambahan key dan value dengan urutan sebagai berikut:\n",
    "+ `'alamat': 'jl. Madara no. 10, Konohagakure, Hi no Kuni'`\n",
    "+ `'usia': 17`"
   ]
  },
  {
   "cell_type": "code",
   "execution_count": null,
   "metadata": {},
   "outputs": [],
   "source": []
  },
  {
   "cell_type": "markdown",
   "metadata": {},
   "source": [
    "Lakukan penggantian setiap value sesuai dengan data diri masing2!"
   ]
  },
  {
   "cell_type": "code",
   "execution_count": null,
   "metadata": {},
   "outputs": [],
   "source": []
  }
 ],
 "metadata": {
  "kernelspec": {
   "display_name": "Python 3 (ipykernel)",
   "language": "python",
   "name": "python3"
  },
  "language_info": {
   "codemirror_mode": {
    "name": "ipython",
    "version": 3
   },
   "file_extension": ".py",
   "mimetype": "text/x-python",
   "name": "python",
   "nbconvert_exporter": "python",
   "pygments_lexer": "ipython3",
   "version": "3.10.12"
  }
 },
 "nbformat": 4,
 "nbformat_minor": 5
}
